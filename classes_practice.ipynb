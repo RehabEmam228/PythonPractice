{
  "nbformat": 4,
  "nbformat_minor": 0,
  "metadata": {
    "colab": {
      "name": "classes_practice.ipynb",
      "provenance": [],
      "authorship_tag": "ABX9TyMNDWh0xynv/4K3iF05lUG6",
      "include_colab_link": true
    },
    "kernelspec": {
      "name": "python3",
      "display_name": "Python 3"
    }
  },
  "cells": [
    {
      "cell_type": "markdown",
      "metadata": {
        "id": "view-in-github",
        "colab_type": "text"
      },
      "source": [
        "<a href=\"https://colab.research.google.com/github/RehabEmam228/PythonPractice/blob/master/classes_practice.ipynb\" target=\"_parent\"><img src=\"https://colab.research.google.com/assets/colab-badge.svg\" alt=\"Open In Colab\"/></a>"
      ]
    },
    {
      "cell_type": "code",
      "metadata": {
        "id": "EFpUbZIJymSm",
        "colab_type": "code",
        "colab": {}
      },
      "source": [
        "class Classy(object):\n",
        "  # if I initialize an istance later, so 'me' is an object of Classy\n",
        "  # this class is as if 'me' the object is a list of items\n",
        "  def __init__(self):\n",
        "    self.items=[]\n",
        "  def addItem(self,item):\n",
        "    self.items.append(item)\n",
        "  def getCleanness(self):\n",
        "    cleanness = 0\n",
        "    if len(self.items) > 0:\n",
        "      for item in self.items:\n",
        "        if item == 'tophat':\n",
        "          cleanness += 2\n",
        "        if item == 'bowtie':\n",
        "          cleanness += 4\n",
        "        if item == 'tie':\n",
        "          cleanness += 5\n",
        "    return cleanness\n",
        "\n",
        "# make object, initialize the class, make an instance 'me'\n",
        "me = Classy()\n",
        "       \n"
      ],
      "execution_count": 0,
      "outputs": []
    },
    {
      "cell_type": "code",
      "metadata": {
        "id": "qd29bMN20i-z",
        "colab_type": "code",
        "colab": {
          "base_uri": "https://localhost:8080/",
          "height": 34
        },
        "outputId": "7b417b25-7068-469a-a378-c22cfa2a8f9e"
      },
      "source": [
        "me.addItem('tophat')\n",
        "print(me.getCleanness())"
      ],
      "execution_count": 6,
      "outputs": [
        {
          "output_type": "stream",
          "text": [
            "4\n"
          ],
          "name": "stdout"
        }
      ]
    }
  ]
}