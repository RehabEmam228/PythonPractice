{
  "nbformat": 4,
  "nbformat_minor": 0,
  "metadata": {
    "colab": {
      "name": "linkedlist.ipynb",
      "provenance": [],
      "authorship_tag": "ABX9TyPiDiIu5IVczMMQKnFnRou3",
      "include_colab_link": true
    },
    "kernelspec": {
      "name": "python3",
      "display_name": "Python 3"
    }
  },
  "cells": [
    {
      "cell_type": "markdown",
      "metadata": {
        "id": "view-in-github",
        "colab_type": "text"
      },
      "source": [
        "<a href=\"https://colab.research.google.com/github/RehabEmam228/PythonPractice/blob/master/linkedlist.ipynb\" target=\"_parent\"><img src=\"https://colab.research.google.com/assets/colab-badge.svg\" alt=\"Open In Colab\"/></a>"
      ]
    },
    {
      "cell_type": "markdown",
      "metadata": {
        "id": "HpofQDlQ1jSz",
        "colab_type": "text"
      },
      "source": [
        "# There is no linked list in python\n",
        "Now we create a class to define it"
      ]
    },
    {
      "cell_type": "code",
      "metadata": {
        "id": "4Ak8yC2_0fow",
        "colab_type": "code",
        "colab": {}
      },
      "source": [
        "class Element(object):\n",
        "  def __init__(self, value):\n",
        "    self.value = value\n",
        "    self.next = None\n",
        "\n",
        "class LinkedList(object):\n",
        "  # initialize the first element \"head\" to be None\n",
        "    def __init__(self, head=None):\n",
        "        self.head = head\n",
        "\n",
        "  # define a function to put element in the end of the list, so it itterates on elements\n",
        "    def append(self, new_element):\n",
        "        current = self.head\n",
        "    # if it already has a head, it iterates till the end of list to put the new_element\n",
        "        if self.head:\n",
        "          while current.next:\n",
        "              current = current.next\n",
        "          current.next = new_element\n",
        "    # if there is no head, the new_element is the head now\n",
        "        else:\n",
        "            new_element = self.head\n",
        "  \n",
        "    def get_position(self, position):\n",
        "        counter = 1\n",
        "        current = self.head\n",
        "        if position < 1:\n",
        "            return None\n",
        "        while current and counter <= position:\n",
        "            if counter == position:\n",
        "                return current\n",
        "            current = current.next\n",
        "            counter += 1\n",
        "        return None\n",
        "\n",
        "    def insert(self, new_element, position):\n",
        "        counter = 1\n",
        "        current = self.head\n",
        "        if position > 1:\n",
        "            while current and counter < position:\n",
        "                if counter == position - 1:\n",
        "                    new_element.next = current.next\n",
        "                    current.next = new_element\n",
        "                current = current.next\n",
        "                counter += 1\n",
        "        elif position == 1:\n",
        "            new_element.next = self.head\n",
        "            self.head = new_element\n",
        "\n",
        "    \n",
        "    def delete(self, value):\n",
        "          current = self.head\n",
        "          previous = None\n",
        "          while current.value != value and current.next:\n",
        "              previous = current\n",
        "              current = current.next\n",
        "          if current.value == value:\n",
        "              if previous:\n",
        "                  previous.next = current.next\n",
        "              else:\n",
        "                  self.head = current.next\n",
        "\n"
      ],
      "execution_count": 0,
      "outputs": []
    },
    {
      "cell_type": "code",
      "metadata": {
        "id": "QuEwFnwuBvA3",
        "colab_type": "code",
        "colab": {
          "base_uri": "https://localhost:8080/",
          "height": 118
        },
        "outputId": "3da6be0a-66e3-4d9a-e1b5-e07c8adc8404"
      },
      "source": [
        "# Test cases\n",
        "# Set up some Elements\n",
        "e1 = Element(1)\n",
        "e2 = Element(2)\n",
        "e3 = Element(3)\n",
        "e4 = Element(4)\n",
        "\n",
        "# Start setting up a LinkedList\n",
        "ll = LinkedList(e1)\n",
        "ll.append(e2)\n",
        "ll.append(e3)\n",
        "\n",
        "# Test get_position\n",
        "# Should print 3\n",
        "print(ll.head.next.next.value)\n",
        "# Should also print 3\n",
        "print(ll.get_position(3).value)\n",
        "\n",
        "# Test insert\n",
        "ll.insert(e4,3)\n",
        "# Should print 4 now\n",
        "print(ll.get_position(3).value)\n",
        "\n",
        "# Test delete\n",
        "ll.delete(1)\n",
        "# Should print 2 now\n",
        "print(ll.get_position(1).value)\n",
        "# Should print 4 now\n",
        "print(ll.get_position(2).value)\n",
        "# Should print 3 now\n",
        "print(ll.get_position(3).value)"
      ],
      "execution_count": 36,
      "outputs": [
        {
          "output_type": "stream",
          "text": [
            "3\n",
            "3\n",
            "4\n",
            "2\n",
            "4\n",
            "3\n"
          ],
          "name": "stdout"
        }
      ]
    }
  ]
}