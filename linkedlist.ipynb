{
  "nbformat": 4,
  "nbformat_minor": 0,
  "metadata": {
    "colab": {
      "name": "linkedlist.ipynb",
      "provenance": [],
      "authorship_tag": "ABX9TyPoYXm0T3ZP2huSskG1mt60",
      "include_colab_link": true
    },
    "kernelspec": {
      "name": "python3",
      "display_name": "Python 3"
    }
  },
  "cells": [
    {
      "cell_type": "markdown",
      "metadata": {
        "id": "view-in-github",
        "colab_type": "text"
      },
      "source": [
        "<a href=\"https://colab.research.google.com/github/RehabEmam228/PythonPractice/blob/master/linkedlist.ipynb\" target=\"_parent\"><img src=\"https://colab.research.google.com/assets/colab-badge.svg\" alt=\"Open In Colab\"/></a>"
      ]
    },
    {
      "cell_type": "markdown",
      "metadata": {
        "id": "HpofQDlQ1jSz",
        "colab_type": "text"
      },
      "source": [
        "# There is no linked list in python\n",
        "Now we create a class to define it"
      ]
    },
    {
      "cell_type": "code",
      "metadata": {
        "id": "4Ak8yC2_0fow",
        "colab_type": "code",
        "colab": {}
      },
      "source": [
        "class Element(object):\n",
        "  def __init__(self, value):\n",
        "    self.value = value\n",
        "    self.next = None\n",
        "\n",
        "class LinkedList(object):\n",
        "  # initialize the first element \"head\" to be None\n",
        "    def __init__(self, head=None):\n",
        "        self.head = head\n",
        "\n",
        "  # define a function to put element in the end of the list, so it itterates on elements\n",
        "    def append(self, new_element):\n",
        "        current = self.head\n",
        "    # if it already has a head, it iterates till the end of list to put the new_element\n",
        "        if self.head:\n",
        "          while current.next:\n",
        "              current = current.next\n",
        "          current.next = new_element\n",
        "    # if there is no head, the new_element is the head now\n",
        "        else:\n",
        "            new_element = self.head\n",
        "  \n",
        "    def get_position(self, position):\n",
        "        counter = 1\n",
        "        current = self.head\n",
        "        if position < 1:\n",
        "            return None\n",
        "        while current and counter <= position:\n",
        "            if counter == position:\n",
        "                return current\n",
        "            current = current.next\n",
        "            counter += 1\n",
        "        return None\n",
        "\n",
        "    def insert(self, new_element, position):\n",
        "        counter = 1\n",
        "        current = self.head\n",
        "        if position > 1:\n",
        "            while current and counter < position:\n",
        "                if counter == position - 1:\n",
        "                    new_element.next = current.next\n",
        "                    current.next = new_element\n",
        "                current = current.next\n",
        "                counter += 1\n",
        "        elif position == 1:\n",
        "            new_element.next = self.head\n",
        "            self.head = new_element\n",
        "\n",
        "    \n",
        "    def delete(self, value):\n",
        "          current = self.head\n",
        "          previous = None\n",
        "          while current.value != value and current.next:\n",
        "              previous = current\n",
        "              current = current.next\n",
        "          if current.value == value:\n",
        "              if previous:\n",
        "                  previous.next = current.next\n",
        "              else:\n",
        "                  self.head = current.next\n",
        "    # functions for stacked list      \n",
        "    def insert_first(self, new_element):\n",
        "        new_element.next = self.head\n",
        "        self.head = new_element\n",
        "        \n",
        "\n",
        "    def delete_first(self):\n",
        "        \"Delete the first (head) element in the LinkedList as return it\"\n",
        "        element_to_remove = None\n",
        "        if self.head != None:\n",
        "            element_to_remove = self.head\n",
        "            self.head = self.head.next\n",
        "        return element_to_remove\n",
        "\n"
      ],
      "execution_count": 0,
      "outputs": []
    },
    {
      "cell_type": "markdown",
      "metadata": {
        "id": "4rjEE1MZVpw9",
        "colab_type": "text"
      },
      "source": [
        "# Stack list"
      ]
    },
    {
      "cell_type": "code",
      "metadata": {
        "id": "9SJX6UmaVpGZ",
        "colab_type": "code",
        "colab": {}
      },
      "source": [
        "class Stack(object):\n",
        "    def __init__(self,top=None):\n",
        "        self.ll = LinkedList(top)\n",
        "\n",
        "    def push(self, new_element):\n",
        "        \"Push (add) a new element onto the top of the stack\"\n",
        "        self.ll.insert_first(new_element)\n",
        "            \n",
        "\n",
        "    def pop(self):\n",
        "        \"Pop (remove) the first element off the top of the stack and return it\"\n",
        "        return self.ll.delete_first()"
      ],
      "execution_count": 0,
      "outputs": []
    },
    {
      "cell_type": "code",
      "metadata": {
        "id": "QuEwFnwuBvA3",
        "colab_type": "code",
        "colab": {
          "base_uri": "https://localhost:8080/",
          "height": 118
        },
        "outputId": "59d66735-039d-4eb8-9a89-f1fceece2e16"
      },
      "source": [
        "# Test cases\n",
        "# Set up some Elements\n",
        "e1 = Element(1)\n",
        "e2 = Element(2)\n",
        "e3 = Element(3)\n",
        "e4 = Element(4)\n",
        "\n",
        "# Start setting up a LinkedList\n",
        "ll = LinkedList(e1)\n",
        "ll.append(e2)\n",
        "ll.append(e3)\n",
        "\n",
        "# Test get_position\n",
        "# Should print 3\n",
        "print(ll.head.next.next.value)\n",
        "# Should also print 3\n",
        "print(ll.get_position(3).value)\n",
        "\n",
        "# Test insert\n",
        "ll.insert(e4,3)\n",
        "# Should print 4 now\n",
        "print(ll.get_position(3).value)\n",
        "\n",
        "# Test delete\n",
        "ll.delete(1)\n",
        "# Should print 2 now\n",
        "print(ll.get_position(1).value)\n",
        "# Should print 4 now\n",
        "print(ll.get_position(2).value)\n",
        "# Should print 3 now\n",
        "print(ll.get_position(3).value)"
      ],
      "execution_count": 44,
      "outputs": [
        {
          "output_type": "stream",
          "text": [
            "3\n",
            "3\n",
            "4\n",
            "2\n",
            "4\n",
            "3\n"
          ],
          "name": "stdout"
        }
      ]
    },
    {
      "cell_type": "code",
      "metadata": {
        "id": "xDVQzHzHWC-O",
        "colab_type": "code",
        "colab": {
          "base_uri": "https://localhost:8080/",
          "height": 101
        },
        "outputId": "a6d36e65-1b0e-4158-b735-95ca1c6e04a2"
      },
      "source": [
        "# Start setting up a Stack\n",
        "stack = Stack(e1)\n",
        "\n",
        "# Test stack functionality\n",
        "stack.push(e2)\n",
        "stack.push(e3)\n",
        "print(stack.pop().value)\n",
        "print(stack.pop().value)\n",
        "print(stack.pop().value)\n",
        "print(stack.pop())\n",
        "stack.push(e4)\n",
        "print(stack.pop().value)"
      ],
      "execution_count": 45,
      "outputs": [
        {
          "output_type": "stream",
          "text": [
            "3\n",
            "2\n",
            "1\n",
            "<__main__.Element object at 0x7f0ab4746198>\n",
            "4\n"
          ],
          "name": "stdout"
        }
      ]
    },
    {
      "cell_type": "markdown",
      "metadata": {
        "id": "StU-krwNhT2A",
        "colab_type": "text"
      },
      "source": [
        "# Queue"
      ]
    },
    {
      "cell_type": "code",
      "metadata": {
        "id": "VBx76f1YhWh3",
        "colab_type": "code",
        "colab": {}
      },
      "source": [
        "class Queue:\n",
        "    def __init__(self, head=None):\n",
        "        self.storage = [head]\n",
        "\n",
        "    def enqueue(self, new_element):\n",
        "        \n",
        "        return self.storage.append(new_element)\n",
        "        \n",
        "\n",
        "    def peek(self):\n",
        "        return self.storage[0]\n",
        "    \n",
        "    def dequeue(self):\n",
        "        return self.storage.pop(0)"
      ],
      "execution_count": 0,
      "outputs": []
    },
    {
      "cell_type": "code",
      "metadata": {
        "id": "6SD8rx5-hbtu",
        "colab_type": "code",
        "colab": {
          "base_uri": "https://localhost:8080/",
          "height": 118
        },
        "outputId": "d60359dd-f699-4d64-f19c-eb7f5e538159"
      },
      "source": [
        "# Setup\n",
        "q = Queue(1)\n",
        "q.enqueue(2)\n",
        "q.enqueue(3)\n",
        "\n",
        "# Test peek\n",
        "# Should be 1\n",
        "print(q.peek())\n",
        "\n",
        "# Test dequeue\n",
        "# Should be 1\n",
        "print(q.dequeue())\n",
        "\n",
        "# Test enqueue\n",
        "q.enqueue(4)\n",
        "# Should be 2\n",
        "print(q.dequeue())\n",
        "# Should be 3\n",
        "print(q.dequeue())\n",
        "# Should be 4\n",
        "print(q.dequeue())\n",
        "q.enqueue(5)\n",
        "# Should be 5\n",
        "print(q.peek())"
      ],
      "execution_count": 48,
      "outputs": [
        {
          "output_type": "stream",
          "text": [
            "1\n",
            "1\n",
            "2\n",
            "3\n",
            "4\n",
            "5\n"
          ],
          "name": "stdout"
        }
      ]
    }
  ]
}